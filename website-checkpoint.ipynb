{
 "cells": [
  {
   "cell_type": "code",
   "execution_count": 18,
   "id": "67d3f4a8",
   "metadata": {},
   "outputs": [
    {
     "name": "stdout",
     "output_type": "stream",
     "text": [
      " * Serving Flask app '__main__'\n",
      " * Debug mode: off\n"
     ]
    },
    {
     "name": "stderr",
     "output_type": "stream",
     "text": [
      "WARNING: This is a development server. Do not use it in a production deployment. Use a production WSGI server instead.\n",
      " * Running on http://127.0.0.1:5000\n",
      "Press CTRL+C to quit\n",
      "127.0.0.1 - - [01/Dec/2023 00:35:53] \"GET / HTTP/1.1\" 200 -\n",
      "127.0.0.1 - - [01/Dec/2023 00:35:53] \"GET /static/css/style.css HTTP/1.1\" 304 -\n",
      "127.0.0.1 - - [01/Dec/2023 00:36:11] \"POST /predict HTTP/1.1\" 200 -\n",
      "127.0.0.1 - - [01/Dec/2023 00:36:11] \"GET /ear HTTP/1.1\" 200 -\n",
      "127.0.0.1 - - [01/Dec/2023 00:36:11] \"GET /static/css/style.css HTTP/1.1\" 304 -\n"
     ]
    },
    {
     "name": "stdout",
     "output_type": "stream",
     "text": [
      "[0]\n"
     ]
    },
    {
     "name": "stderr",
     "output_type": "stream",
     "text": [
      "127.0.0.1 - - [01/Dec/2023 00:37:05] \"POST /predict HTTP/1.1\" 200 -\n"
     ]
    },
    {
     "name": "stdout",
     "output_type": "stream",
     "text": [
      "[1]\n"
     ]
    }
   ],
   "source": [
    "from flask import Flask,render_template,request,redirect\n",
    "#from flask_cors import CORS,cross_origin\n",
    "import pickle\n",
    "import pandas as pd\n",
    "import numpy as np\n",
    "\n",
    "app=Flask(__name__)\n",
    "#cors=CORS(app)\n",
    "model=pickle.load(open('potato.pkl','rb'))\n",
    "\n",
    "\n",
    "@app.route('/',methods=['GET','POST'])\n",
    "\n",
    "def index():\n",
    "       return render_template('index1.html')\n",
    "\n",
    "@app.route('/predict',methods=['POST'])\n",
    "#@cross_origin()\n",
    "def predict():\n",
    "\n",
    "    temperature=float(request.form.get('temperature'))\n",
    "    humidity=float(request.form.get('humidity'))\n",
    "    windspeed=float(request.form.get('windspeed'))\n",
    "    windbearing=float(request.form.get('windbearing'))\n",
    "    visibility=float(request.form.get('visibility'))\n",
    "    pressure=float(request.form.get('pressure'))\n",
    "\n",
    "    prediction=model.predict(pd.DataFrame(columns=['Temperature', 'Humidity', 'Wind Speed', 'Wind Bearing', 'Visibility','Pressure'],\n",
    "                              data=np.array([temperature,humidity,windspeed,windbearing,visibility,pressure]).reshape(1, 6)))\n",
    "    print(prediction)\n",
    "    if prediction==0:\n",
    "        return 'Late Blight'\n",
    "    else:\n",
    "        return 'Early Blight'\n",
    "        \n",
    "\n",
    "   # return str(np.round(prediction[0],2))\n",
    "\n",
    "\n",
    "@app.route('/early')\n",
    "def early():\n",
    "    return render_template('early.html')\n",
    "\n",
    "@app.route('/late')\n",
    "def late():\n",
    "    return render_template('late.html')\n",
    "\n",
    "\n",
    "\n",
    "\n",
    "if __name__=='__main__':\n",
    "    app.run()\n"
   ]
  },
  {
   "cell_type": "code",
   "execution_count": null,
   "id": "19ce0ff2",
   "metadata": {},
   "outputs": [],
   "source": []
  }
 ],
 "metadata": {
  "kernelspec": {
   "display_name": "python3.6",
   "language": "python",
   "name": "python3.6"
  },
  "language_info": {
   "codemirror_mode": {
    "name": "ipython",
    "version": 3
   },
   "file_extension": ".py",
   "mimetype": "text/x-python",
   "name": "python",
   "nbconvert_exporter": "python",
   "pygments_lexer": "ipython3",
   "version": "3.11.4"
  }
 },
 "nbformat": 4,
 "nbformat_minor": 5
}

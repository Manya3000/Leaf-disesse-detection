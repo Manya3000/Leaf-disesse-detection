{
 "cells": [
  {
   "cell_type": "code",
   "execution_count": 1,
   "id": "94cba15e",
   "metadata": {},
   "outputs": [],
   "source": [
    "import pandas as pd\n",
    "import numpy as np\n",
    "import seaborn as sns\n",
    "import matplotlib.pyplot as plt\n",
    "from sklearn.model_selection import train_test_split\n",
    "from sklearn.preprocessing import LabelEncoder\n",
    "from sklearn.metrics import accuracy_score, confusion_matrix, classification_report\n"
   ]
  },
  {
   "cell_type": "code",
   "execution_count": 2,
   "id": "9ca0db6d",
   "metadata": {},
   "outputs": [],
   "source": [
    "# loading the data from csv file to a Pandas DataFrame\n",
    "potato_leaf = pd.read_csv('Disease with Weather.csv')"
   ]
  },
  {
   "cell_type": "code",
   "execution_count": 3,
   "id": "64c8f986",
   "metadata": {},
   "outputs": [
    {
     "data": {
      "text/html": [
       "<div>\n",
       "<style scoped>\n",
       "    .dataframe tbody tr th:only-of-type {\n",
       "        vertical-align: middle;\n",
       "    }\n",
       "\n",
       "    .dataframe tbody tr th {\n",
       "        vertical-align: top;\n",
       "    }\n",
       "\n",
       "    .dataframe thead th {\n",
       "        text-align: right;\n",
       "    }\n",
       "</style>\n",
       "<table border=\"1\" class=\"dataframe\">\n",
       "  <thead>\n",
       "    <tr style=\"text-align: right;\">\n",
       "      <th></th>\n",
       "      <th>Temperature</th>\n",
       "      <th>Humidity</th>\n",
       "      <th>Wind Speed</th>\n",
       "      <th>Wind Bearing</th>\n",
       "      <th>Visibility</th>\n",
       "      <th>Pressure</th>\n",
       "      <th>Disease</th>\n",
       "      <th>Disease in number</th>\n",
       "    </tr>\n",
       "  </thead>\n",
       "  <tbody>\n",
       "    <tr>\n",
       "      <th>0</th>\n",
       "      <td>18.7</td>\n",
       "      <td>77</td>\n",
       "      <td>6.9</td>\n",
       "      <td>63</td>\n",
       "      <td>11.0</td>\n",
       "      <td>1015.5</td>\n",
       "      <td>Early Blight</td>\n",
       "      <td>1</td>\n",
       "    </tr>\n",
       "    <tr>\n",
       "      <th>1</th>\n",
       "      <td>23.4</td>\n",
       "      <td>64</td>\n",
       "      <td>4.6</td>\n",
       "      <td>137</td>\n",
       "      <td>8.9</td>\n",
       "      <td>1017.0</td>\n",
       "      <td>Late Blight</td>\n",
       "      <td>0</td>\n",
       "    </tr>\n",
       "    <tr>\n",
       "      <th>2</th>\n",
       "      <td>20.1</td>\n",
       "      <td>72</td>\n",
       "      <td>3.2</td>\n",
       "      <td>188</td>\n",
       "      <td>10.0</td>\n",
       "      <td>1014.8</td>\n",
       "      <td>Early Blight</td>\n",
       "      <td>1</td>\n",
       "    </tr>\n",
       "    <tr>\n",
       "      <th>3</th>\n",
       "      <td>25.6</td>\n",
       "      <td>61</td>\n",
       "      <td>7.1</td>\n",
       "      <td>282</td>\n",
       "      <td>9.6</td>\n",
       "      <td>1015.2</td>\n",
       "      <td>Late Blight</td>\n",
       "      <td>0</td>\n",
       "    </tr>\n",
       "    <tr>\n",
       "      <th>4</th>\n",
       "      <td>19.5</td>\n",
       "      <td>78</td>\n",
       "      <td>5.5</td>\n",
       "      <td>104</td>\n",
       "      <td>12.5</td>\n",
       "      <td>1016.1</td>\n",
       "      <td>Early Blight</td>\n",
       "      <td>1</td>\n",
       "    </tr>\n",
       "  </tbody>\n",
       "</table>\n",
       "</div>"
      ],
      "text/plain": [
       "   Temperature  Humidity  Wind Speed  Wind Bearing  Visibility  Pressure  \\\n",
       "0         18.7        77         6.9            63        11.0    1015.5   \n",
       "1         23.4        64         4.6           137         8.9    1017.0   \n",
       "2         20.1        72         3.2           188        10.0    1014.8   \n",
       "3         25.6        61         7.1           282         9.6    1015.2   \n",
       "4         19.5        78         5.5           104        12.5    1016.1   \n",
       "\n",
       "        Disease  Disease in number  \n",
       "0  Early Blight                  1  \n",
       "1   Late Blight                  0  \n",
       "2  Early Blight                  1  \n",
       "3   Late Blight                  0  \n",
       "4  Early Blight                  1  "
      ]
     },
     "execution_count": 3,
     "metadata": {},
     "output_type": "execute_result"
    }
   ],
   "source": [
    "# first 5 rows of the dataframe\n",
    "potato_leaf.head()"
   ]
  },
  {
   "cell_type": "code",
   "execution_count": 4,
   "id": "0bc0088f",
   "metadata": {},
   "outputs": [
    {
     "data": {
      "text/plain": [
       "(4020, 8)"
      ]
     },
     "execution_count": 4,
     "metadata": {},
     "output_type": "execute_result"
    }
   ],
   "source": [
    "# number of rows and columns\n",
    "potato_leaf.shape"
   ]
  },
  {
   "cell_type": "code",
   "execution_count": 5,
   "id": "cceb3d55",
   "metadata": {},
   "outputs": [
    {
     "name": "stdout",
     "output_type": "stream",
     "text": [
      "<class 'pandas.core.frame.DataFrame'>\n",
      "RangeIndex: 4020 entries, 0 to 4019\n",
      "Data columns (total 8 columns):\n",
      " #   Column             Non-Null Count  Dtype  \n",
      "---  ------             --------------  -----  \n",
      " 0   Temperature        4020 non-null   float64\n",
      " 1   Humidity           4020 non-null   int64  \n",
      " 2   Wind Speed         4020 non-null   float64\n",
      " 3   Wind Bearing       4020 non-null   int64  \n",
      " 4   Visibility         4020 non-null   float64\n",
      " 5   Pressure           4020 non-null   float64\n",
      " 6   Disease            4020 non-null   object \n",
      " 7   Disease in number  4020 non-null   int64  \n",
      "dtypes: float64(4), int64(3), object(1)\n",
      "memory usage: 251.4+ KB\n"
     ]
    }
   ],
   "source": [
    "# getting some informations about the dataset\n",
    "potato_leaf.info()"
   ]
  },
  {
   "cell_type": "code",
   "execution_count": 6,
   "id": "f289bde9",
   "metadata": {},
   "outputs": [
    {
     "data": {
      "text/plain": [
       "Temperature          0\n",
       "Humidity             0\n",
       "Wind Speed           0\n",
       "Wind Bearing         0\n",
       "Visibility           0\n",
       "Pressure             0\n",
       "Disease              0\n",
       "Disease in number    0\n",
       "dtype: int64"
      ]
     },
     "execution_count": 6,
     "metadata": {},
     "output_type": "execute_result"
    }
   ],
   "source": [
    "# checking for missing values\n",
    "potato_leaf.isnull().sum()"
   ]
  },
  {
   "cell_type": "code",
   "execution_count": 7,
   "id": "901dd5b4",
   "metadata": {},
   "outputs": [
    {
     "data": {
      "text/html": [
       "<div>\n",
       "<style scoped>\n",
       "    .dataframe tbody tr th:only-of-type {\n",
       "        vertical-align: middle;\n",
       "    }\n",
       "\n",
       "    .dataframe tbody tr th {\n",
       "        vertical-align: top;\n",
       "    }\n",
       "\n",
       "    .dataframe thead th {\n",
       "        text-align: right;\n",
       "    }\n",
       "</style>\n",
       "<table border=\"1\" class=\"dataframe\">\n",
       "  <thead>\n",
       "    <tr style=\"text-align: right;\">\n",
       "      <th></th>\n",
       "      <th>Temperature</th>\n",
       "      <th>Humidity</th>\n",
       "      <th>Wind Speed</th>\n",
       "      <th>Wind Bearing</th>\n",
       "      <th>Visibility</th>\n",
       "      <th>Pressure</th>\n",
       "      <th>Disease in number</th>\n",
       "    </tr>\n",
       "  </thead>\n",
       "  <tbody>\n",
       "    <tr>\n",
       "      <th>count</th>\n",
       "      <td>4020.000000</td>\n",
       "      <td>4020.000000</td>\n",
       "      <td>4020.000000</td>\n",
       "      <td>4020.000000</td>\n",
       "      <td>4020.000000</td>\n",
       "      <td>4020.000000</td>\n",
       "      <td>4020.000000</td>\n",
       "    </tr>\n",
       "    <tr>\n",
       "      <th>mean</th>\n",
       "      <td>23.580249</td>\n",
       "      <td>67.247264</td>\n",
       "      <td>5.404602</td>\n",
       "      <td>184.280846</td>\n",
       "      <td>10.111443</td>\n",
       "      <td>1015.167040</td>\n",
       "      <td>0.513930</td>\n",
       "    </tr>\n",
       "    <tr>\n",
       "      <th>std</th>\n",
       "      <td>2.905305</td>\n",
       "      <td>6.814943</td>\n",
       "      <td>2.114070</td>\n",
       "      <td>89.812636</td>\n",
       "      <td>1.257829</td>\n",
       "      <td>0.595284</td>\n",
       "      <td>0.499868</td>\n",
       "    </tr>\n",
       "    <tr>\n",
       "      <th>min</th>\n",
       "      <td>17.500000</td>\n",
       "      <td>48.000000</td>\n",
       "      <td>1.200000</td>\n",
       "      <td>0.000000</td>\n",
       "      <td>6.900000</td>\n",
       "      <td>1012.600000</td>\n",
       "      <td>0.000000</td>\n",
       "    </tr>\n",
       "    <tr>\n",
       "      <th>25%</th>\n",
       "      <td>21.000000</td>\n",
       "      <td>61.000000</td>\n",
       "      <td>3.700000</td>\n",
       "      <td>118.000000</td>\n",
       "      <td>9.000000</td>\n",
       "      <td>1014.800000</td>\n",
       "      <td>0.000000</td>\n",
       "    </tr>\n",
       "    <tr>\n",
       "      <th>50%</th>\n",
       "      <td>23.400000</td>\n",
       "      <td>68.000000</td>\n",
       "      <td>5.100000</td>\n",
       "      <td>178.000000</td>\n",
       "      <td>9.900000</td>\n",
       "      <td>1015.200000</td>\n",
       "      <td>1.000000</td>\n",
       "    </tr>\n",
       "    <tr>\n",
       "      <th>75%</th>\n",
       "      <td>26.100000</td>\n",
       "      <td>73.000000</td>\n",
       "      <td>7.100000</td>\n",
       "      <td>258.000000</td>\n",
       "      <td>11.300000</td>\n",
       "      <td>1015.600000</td>\n",
       "      <td>1.000000</td>\n",
       "    </tr>\n",
       "    <tr>\n",
       "      <th>max</th>\n",
       "      <td>30.400000</td>\n",
       "      <td>83.000000</td>\n",
       "      <td>11.100000</td>\n",
       "      <td>358.000000</td>\n",
       "      <td>14.500000</td>\n",
       "      <td>1017.200000</td>\n",
       "      <td>1.000000</td>\n",
       "    </tr>\n",
       "  </tbody>\n",
       "</table>\n",
       "</div>"
      ],
      "text/plain": [
       "       Temperature     Humidity   Wind Speed  Wind Bearing   Visibility  \\\n",
       "count  4020.000000  4020.000000  4020.000000   4020.000000  4020.000000   \n",
       "mean     23.580249    67.247264     5.404602    184.280846    10.111443   \n",
       "std       2.905305     6.814943     2.114070     89.812636     1.257829   \n",
       "min      17.500000    48.000000     1.200000      0.000000     6.900000   \n",
       "25%      21.000000    61.000000     3.700000    118.000000     9.000000   \n",
       "50%      23.400000    68.000000     5.100000    178.000000     9.900000   \n",
       "75%      26.100000    73.000000     7.100000    258.000000    11.300000   \n",
       "max      30.400000    83.000000    11.100000    358.000000    14.500000   \n",
       "\n",
       "          Pressure  Disease in number  \n",
       "count  4020.000000        4020.000000  \n",
       "mean   1015.167040           0.513930  \n",
       "std       0.595284           0.499868  \n",
       "min    1012.600000           0.000000  \n",
       "25%    1014.800000           0.000000  \n",
       "50%    1015.200000           1.000000  \n",
       "75%    1015.600000           1.000000  \n",
       "max    1017.200000           1.000000  "
      ]
     },
     "execution_count": 7,
     "metadata": {},
     "output_type": "execute_result"
    }
   ],
   "source": [
    "# statistical Measures of the dataset\n",
    "potato_leaf.describe()"
   ]
  },
  {
   "cell_type": "code",
   "execution_count": 8,
   "id": "c7334b02",
   "metadata": {},
   "outputs": [
    {
     "data": {
      "image/png": "[encoded data removed]",
      "text/plain": [
       "<Figure size 800x800 with 1 Axes>"
      ]
     },
     "metadata": {},
     "output_type": "display_data"
    }
   ],
   "source": [
    "# distribution of temperature value\n",
    "sns.set()\n",
    "plt.figure(figsize=(8,8))\n",
    "sns.histplot(potato_leaf['Temperature'])\n",
    "plt.title('Temperature Distribution')\n",
    "plt.show()"
   ]
  },
  {
   "cell_type": "code",
   "execution_count": 9,
   "id": "bd61f730",
   "metadata": {},
   "outputs": [
    {
     "data": {
      "image/png": "[encoded data removed]",
      "text/plain": [
       "<Figure size 800x800 with 1 Axes>"
      ]
     },
     "metadata": {},
     "output_type": "display_data"
    }
   ],
   "source": [
    "# distribution of humidity value\n",
    "sns.set()\n",
    "plt.figure(figsize=(8,8))\n",
    "sns.histplot(potato_leaf['Humidity'])\n",
    "plt.title('Humidity Distribution')\n",
    "plt.show()"
   ]
  },
  {
   "cell_type": "code",
   "execution_count": 10,
   "id": "1fa7dcb9",
   "metadata": {},
   "outputs": [
    {
     "data": {
      "image/png": "[encoded data removed]",
      "text/plain": [
       "<Figure size 800x800 with 1 Axes>"
      ]
     },
     "metadata": {},
     "output_type": "display_data"
    }
   ],
   "source": [
    "# distribution of temperature value\n",
    "sns.set()\n",
    "plt.figure(figsize=(8,8))\n",
    "sns.histplot(potato_leaf['Wind Speed'])\n",
    "plt.title('Wind Speed Distribution')\n",
    "plt.show()\n"
   ]
  },
  {
   "cell_type": "code",
   "execution_count": 11,
   "id": "5227e857",
   "metadata": {},
   "outputs": [
    {
     "data": {
      "image/png": "[encoded data removed]",
      "text/plain": [
       "<Figure size 800x800 with 1 Axes>"
      ]
     },
     "metadata": {},
     "output_type": "display_data"
    }
   ],
   "source": [
    "# smoker column\n",
    "plt.figure(figsize=(8,8))\n",
    "sns.countplot(x='Disease in number', data=potato_leaf)\n",
    "plt.title('Disease')\n",
    "plt.show()"
   ]
  },
  {
   "cell_type": "code",
   "execution_count": 12,
   "id": "984cc6e6",
   "metadata": {},
   "outputs": [],
   "source": [
    "potato_leaf.replace({'Disease':{'male':0,'female':1}}, inplace=True)"
   ]
  },
  {
   "cell_type": "code",
   "execution_count": 13,
   "id": "9cc074a7",
   "metadata": {},
   "outputs": [],
   "source": [
    "X = potato_leaf.drop(columns=['Disease in number', 'Disease'], axis=1)\n",
    "Y = potato_leaf['Disease in number']\n"
   ]
  },
  {
   "cell_type": "code",
   "execution_count": 14,
   "id": "ae30e835",
   "metadata": {},
   "outputs": [
    {
     "name": "stdout",
     "output_type": "stream",
     "text": [
      "      Temperature  Humidity  Wind Speed  Wind Bearing  Visibility  Pressure\n",
      "0            18.7        77         6.9            63        11.0    1015.5\n",
      "1            23.4        64         4.6           137         8.9    1017.0\n",
      "2            20.1        72         3.2           188        10.0    1014.8\n",
      "3            25.6        61         7.1           282         9.6    1015.2\n",
      "4            19.5        78         5.5           104        12.5    1016.1\n",
      "...           ...       ...         ...           ...         ...       ...\n",
      "4015         21.3        75         3.9           131        11.9    1015.6\n",
      "4016         25.1        67         7.4           257         8.4    1016.0\n",
      "4017         19.7        79         4.0            93        11.1    1014.5\n",
      "4018         28.3        58         9.6           354         8.8    1015.4\n",
      "4019         26.2        62         8.0           248         9.0    1015.5\n",
      "\n",
      "[4020 rows x 6 columns]\n"
     ]
    }
   ],
   "source": [
    "print(X)"
   ]
  },
  {
   "cell_type": "code",
   "execution_count": 15,
   "id": "73f506c3",
   "metadata": {},
   "outputs": [
    {
     "name": "stdout",
     "output_type": "stream",
     "text": [
      "0       1\n",
      "1       0\n",
      "2       1\n",
      "3       0\n",
      "4       1\n",
      "       ..\n",
      "4015    1\n",
      "4016    0\n",
      "4017    1\n",
      "4018    0\n",
      "4019    1\n",
      "Name: Disease in number, Length: 4020, dtype: int64\n"
     ]
    }
   ],
   "source": [
    "print(Y)"
   ]
  },
  {
   "cell_type": "code",
   "execution_count": 16,
   "id": "733a9ab9",
   "metadata": {},
   "outputs": [],
   "source": [
    "X_train, X_test, Y_train, Y_test = train_test_split(X, Y, test_size=0.2, random_state=2)"
   ]
  },
  {
   "cell_type": "code",
   "execution_count": 17,
   "id": "fcdb145b",
   "metadata": {},
   "outputs": [
    {
     "name": "stdout",
     "output_type": "stream",
     "text": [
      "(4020, 6) (3216, 6) (804, 6)\n"
     ]
    }
   ],
   "source": [
    "print(X.shape, X_train.shape, X_test.shape)"
   ]
  },
  {
   "cell_type": "code",
   "execution_count": 18,
   "id": "3f951619",
   "metadata": {},
   "outputs": [],
   "source": [
    "from sklearn.linear_model import LinearRegression\n"
   ]
  },
  {
   "cell_type": "code",
   "execution_count": 19,
   "id": "aa4f6548",
   "metadata": {},
   "outputs": [],
   "source": [
    "# loading the Linear Regression model\n",
    "regressor = LinearRegression()"
   ]
  },
  {
   "cell_type": "code",
   "execution_count": 20,
   "id": "f0eac2fe",
   "metadata": {},
   "outputs": [
    {
     "data": {
      "text/html": [
       "<style>#sk-container-id-1 {color: black;}#sk-container-id-1 pre{padding: 0;}#sk-container-id-1 div.sk-toggleable {background-color: white;}#sk-container-id-1 label.sk-toggleable__label {cursor: pointer;display: block;width: 100%;margin-bottom: 0;padding: 0.3em;box-sizing: border-box;text-align: center;}#sk-container-id-1 label.sk-toggleable__label-arrow:before {content: \"▸\";float: left;margin-right: 0.25em;color: #696969;}#sk-container-id-1 label.sk-toggleable__label-arrow:hover:before {color: black;}#sk-container-id-1 div.sk-estimator:hover label.sk-toggleable__label-arrow:before {color: black;}#sk-container-id-1 div.sk-toggleable__content {max-height: 0;max-width: 0;overflow: hidden;text-align: left;background-color: #f0f8ff;}#sk-container-id-1 div.sk-toggleable__content pre {margin: 0.2em;color: black;border-radius: 0.25em;background-color: #f0f8ff;}#sk-container-id-1 input.sk-toggleable__control:checked~div.sk-toggleable__content {max-height: 200px;max-width: 100%;overflow: auto;}#sk-container-id-1 input.sk-toggleable__control:checked~label.sk-toggleable__label-arrow:before {content: \"▾\";}#sk-container-id-1 div.sk-estimator input.sk-toggleable__control:checked~label.sk-toggleable__label {background-color: #d4ebff;}#sk-container-id-1 div.sk-label input.sk-toggleable__control:checked~label.sk-toggleable__label {background-color: #d4ebff;}#sk-container-id-1 input.sk-hidden--visually {border: 0;clip: rect(1px 1px 1px 1px);clip: rect(1px, 1px, 1px, 1px);height: 1px;margin: -1px;overflow: hidden;padding: 0;position: absolute;width: 1px;}#sk-container-id-1 div.sk-estimator {font-family: monospace;background-color: #f0f8ff;border: 1px dotted black;border-radius: 0.25em;box-sizing: border-box;margin-bottom: 0.5em;}#sk-container-id-1 div.sk-estimator:hover {background-color: #d4ebff;}#sk-container-id-1 div.sk-parallel-item::after {content: \"\";width: 100%;border-bottom: 1px solid gray;flex-grow: 1;}#sk-container-id-1 div.sk-label:hover label.sk-toggleable__label {background-color: #d4ebff;}#sk-container-id-1 div.sk-serial::before {content: \"\";position: absolute;border-left: 1px solid gray;box-sizing: border-box;top: 0;bottom: 0;left: 50%;z-index: 0;}#sk-container-id-1 div.sk-serial {display: flex;flex-direction: column;align-items: center;background-color: white;padding-right: 0.2em;padding-left: 0.2em;position: relative;}#sk-container-id-1 div.sk-item {position: relative;z-index: 1;}#sk-container-id-1 div.sk-parallel {display: flex;align-items: stretch;justify-content: center;background-color: white;position: relative;}#sk-container-id-1 div.sk-item::before, #sk-container-id-1 div.sk-parallel-item::before {content: \"\";position: absolute;border-left: 1px solid gray;box-sizing: border-box;top: 0;bottom: 0;left: 50%;z-index: -1;}#sk-container-id-1 div.sk-parallel-item {display: flex;flex-direction: column;z-index: 1;position: relative;background-color: white;}#sk-container-id-1 div.sk-parallel-item:first-child::after {align-self: flex-end;width: 50%;}#sk-container-id-1 div.sk-parallel-item:last-child::after {align-self: flex-start;width: 50%;}#sk-container-id-1 div.sk-parallel-item:only-child::after {width: 0;}#sk-container-id-1 div.sk-dashed-wrapped {border: 1px dashed gray;margin: 0 0.4em 0.5em 0.4em;box-sizing: border-box;padding-bottom: 0.4em;background-color: white;}#sk-container-id-1 div.sk-label label {font-family: monospace;font-weight: bold;display: inline-block;line-height: 1.2em;}#sk-container-id-1 div.sk-label-container {text-align: center;}#sk-container-id-1 div.sk-container {/* jupyter's `normalize.less` sets `[hidden] { display: none; }` but bootstrap.min.css set `[hidden] { display: none !important; }` so we also need the `!important` here to be able to override the default hidden behavior on the sphinx rendered scikit-learn.org. See: https://github.com/scikit-learn/scikit-learn/issues/21755 */display: inline-block !important;position: relative;}#sk-container-id-1 div.sk-text-repr-fallback {display: none;}</style><div id=\"sk-container-id-1\" class=\"sk-top-container\"><div class=\"sk-text-repr-fallback\"><pre>LinearRegression()</pre><b>In a Jupyter environment, please rerun this cell to show the HTML representation or trust the notebook. <br />On GitHub, the HTML representation is unable to render, please try loading this page with nbviewer.org.</b></div><div class=\"sk-container\" hidden><div class=\"sk-item\"><div class=\"sk-estimator sk-toggleable\"><input class=\"sk-toggleable__control sk-hidden--visually\" id=\"sk-estimator-id-1\" type=\"checkbox\" checked><label for=\"sk-estimator-id-1\" class=\"sk-toggleable__label sk-toggleable__label-arrow\">LinearRegression</label><div class=\"sk-toggleable__content\"><pre>LinearRegression()</pre></div></div></div></div></div>"
      ],
      "text/plain": [
       "LinearRegression()"
      ]
     },
     "execution_count": 20,
     "metadata": {},
     "output_type": "execute_result"
    }
   ],
   "source": [
    "X_train = X_train.select_dtypes(include=['float', 'int'])\n",
    "\n",
    "regressor.fit(X_train, Y_train)"
   ]
  },
  {
   "cell_type": "code",
   "execution_count": 21,
   "id": "4cc9113f",
   "metadata": {},
   "outputs": [],
   "source": [
    "# prediction on training data\n",
    "training_data_prediction =regressor.predict(X_train)"
   ]
  },
  {
   "cell_type": "code",
   "execution_count": 22,
   "id": "f4fdbe83",
   "metadata": {},
   "outputs": [],
   "source": [
    "from sklearn import metrics"
   ]
  },
  {
   "cell_type": "code",
   "execution_count": 23,
   "id": "b4fa58e2",
   "metadata": {},
   "outputs": [
    {
     "name": "stdout",
     "output_type": "stream",
     "text": [
      "R squared vale :  0.7791878180995429\n"
     ]
    }
   ],
   "source": [
    "# R squared value\n",
    "r2_train = metrics.r2_score(Y_train, training_data_prediction)\n",
    "print('R squared vale : ', r2_train)"
   ]
  },
  {
   "cell_type": "code",
   "execution_count": 24,
   "id": "8fece67b",
   "metadata": {},
   "outputs": [
    {
     "data": {
      "text/plain": [
       "array([ 2.91224189e-01, -3.36295735e-02, -9.99390574e-02,  9.89066145e-04,\n",
       "        1.02875544e+00,  1.04242796e+00,  1.53141217e-01, -2.47657068e-01,\n",
       "        1.18758030e-01, -5.77238693e-02,  5.63753912e-01,  6.92372594e-01,\n",
       "        2.94767193e-02,  1.18758030e-01,  7.03861069e-01,  8.91064023e-01,\n",
       "        5.80421750e-01,  1.16197389e+00,  7.79890502e-01,  2.24788296e-01,\n",
       "        3.03965966e-01,  9.86312215e-01,  1.95752958e-01,  6.51404783e-01,\n",
       "        7.57328586e-01, -1.40612437e-01,  3.13971955e-01,  1.18886828e+00,\n",
       "       -1.08682946e-02,  8.49652315e-01,  2.90494827e-01,  8.84479561e-01,\n",
       "        9.09976735e-01,  7.13638216e-01,  1.97337515e-02, -5.06223111e-02,\n",
       "        9.63056480e-01,  8.01029641e-01,  5.14431327e-01,  6.18416026e-02,\n",
       "        7.49739298e-01,  6.77054941e-01,  1.46112442e-01,  9.89262965e-01,\n",
       "        7.69808575e-03,  1.04103087e+00,  9.66888654e-01, -6.36322219e-02,\n",
       "        1.04918315e+00,  2.80991574e-01,  1.34580207e-01,  5.35265090e-01,\n",
       "        1.19392518e+00,  1.09594544e-01, -8.87504733e-02,  1.47076936e-01,\n",
       "        2.26847328e-01,  1.16592630e+00,  9.81011603e-01,  6.34755005e-01,\n",
       "       -6.33491126e-02,  8.19987018e-02,  9.91903153e-01,  9.19981082e-01,\n",
       "        8.25723595e-01,  8.24048723e-02, -9.60803240e-02,  3.83214040e-01,\n",
       "        6.75445419e-01,  7.32856142e-01,  1.06448526e-01,  8.74037081e-02,\n",
       "        8.91517387e-01,  1.94550712e-01, -5.74346232e-02,  3.29058570e-01,\n",
       "        1.26997677e+00,  7.67061262e-01,  1.87373040e-01,  1.36009581e-01,\n",
       "        9.78246451e-01,  3.82033691e-01,  1.02877475e-01,  8.66880928e-02,\n",
       "        1.04610500e+00,  6.38545669e-01,  7.51753924e-01,  1.30541027e-01,\n",
       "        6.89626630e-01,  2.85343514e-02,  1.52824191e-01,  7.90194898e-01,\n",
       "        9.46371669e-01,  1.08574967e+00,  5.06474763e-02,  4.68701726e-02,\n",
       "        1.19393203e+00,  6.71703147e-01,  6.69507079e-01,  5.28979592e-02,\n",
       "        9.21255801e-01,  1.18065180e-01,  7.27068268e-01,  1.01614496e+00,\n",
       "        2.24788296e-01,  9.10902358e-01,  9.63279319e-01,  1.19129664e+00,\n",
       "        2.16100751e-05,  1.59840178e-01,  1.01813082e+00,  8.94430663e-01,\n",
       "        1.08445061e+00,  8.69630311e-01,  7.39060072e-01,  9.68805439e-01,\n",
       "       -1.47746999e-01,  7.63232927e-01,  5.23251097e-01,  1.33403532e-01,\n",
       "        1.48403758e-01,  1.16197389e+00, -9.11984953e-03, -7.23696363e-02,\n",
       "        7.01811648e-01,  5.49392386e-01,  8.48064288e-02,  1.23949134e-01,\n",
       "        9.68593070e-01,  3.14842457e-02,  2.21733605e-01,  1.21234530e+00,\n",
       "        2.12552238e-01,  9.51613680e-01,  2.14025942e-01,  1.21890986e+00,\n",
       "        3.62572518e-01,  5.17008442e-01,  6.74582470e-01,  7.55662688e-01,\n",
       "        1.16197389e+00,  1.09425536e+00, -7.23696363e-02,  9.92512783e-01,\n",
       "        4.93136268e-01,  3.81354435e-01,  6.72024423e-01, -9.53530807e-02,\n",
       "        9.51613680e-01,  2.22667747e-02,  1.00629827e+00,  7.63232927e-01,\n",
       "        1.03848897e+00, -7.23696363e-02,  5.07713107e-01,  6.12152057e-01,\n",
       "        9.21556761e-01, -1.00285332e-01,  2.62442164e-01,  9.31339295e-01,\n",
       "        2.10956901e-01,  7.98560152e-01,  6.00735047e-02,  7.50381419e-01,\n",
       "        2.14525926e-01,  5.18255401e-01,  6.60197384e-01,  2.21569615e-01,\n",
       "        7.34667348e-01,  7.34139401e-01, -7.23696363e-02,  5.92092919e-02,\n",
       "        3.28774247e-02,  1.01096061e+00,  4.57519409e-01,  1.01614496e+00,\n",
       "        1.61813529e-02,  2.70039325e-01,  1.11593304e+00,  4.72607654e-02,\n",
       "        1.06984737e+00, -4.10629607e-02,  5.92092919e-02,  6.59058552e-01,\n",
       "        7.37145427e-01,  1.15091374e+00,  2.32946087e-01,  2.59780462e-01,\n",
       "        1.44583318e-02,  1.79020844e-01,  3.83214040e-01,  7.35535508e-01,\n",
       "        6.69948799e-01,  1.18003062e-01, -7.23696363e-02,  1.46651723e-01,\n",
       "        2.94594409e-01,  2.37201329e-02,  1.10115295e+00,  7.34139401e-01,\n",
       "       -1.62231939e-01,  1.28820167e+00,  7.29053396e-01,  6.65544343e-01,\n",
       "       -1.04731928e-01,  1.04967070e+00,  9.51613680e-01,  1.07324731e+00,\n",
       "        1.73142811e-01,  1.08668939e+00,  7.78670567e-01,  3.13024053e-01,\n",
       "        1.22221727e+00,  1.02705598e+00,  2.93743164e-01,  6.70943185e-01,\n",
       "       -1.12062779e-01,  1.21473229e+00,  1.92837168e-01,  1.81159377e-01,\n",
       "        2.42542489e-01,  2.52918208e-01, -7.23696363e-02,  1.81542267e-01,\n",
       "        9.84342095e-01,  9.66862285e-01,  6.45267282e-01,  8.19987018e-02,\n",
       "        7.63232927e-01,  1.61756051e-01,  1.37791705e+00,  5.43654092e-01,\n",
       "        9.13621075e-01,  1.15096109e+00,  5.14240712e-01,  1.00142948e+00,\n",
       "        1.16197389e+00,  9.68312073e-02,  2.14025942e-01,  1.13746288e+00,\n",
       "        7.33812120e-01,  9.40498922e-01,  7.63232927e-01,  2.67595187e-02,\n",
       "        6.49807933e-01,  2.32231646e-01,  1.37645613e-01, -6.49457443e-02,\n",
       "        3.48769748e-02,  3.22597084e-03,  2.39334720e-01,  7.37153834e-01,\n",
       "        8.51133595e-01,  9.36270966e-01,  8.10459320e-02, -7.03366773e-02,\n",
       "        2.16493724e-01,  1.62329958e-01,  4.31439505e-01,  1.74219256e-01,\n",
       "        3.25204987e-01,  9.17025548e-01, -1.16074432e-01,  5.66526552e-02,\n",
       "        2.46604346e-01,  1.32412654e+00,  3.04583469e-03,  8.40189908e-01,\n",
       "        1.64170798e-01,  5.81500438e-02, -1.39046086e-01,  9.75859487e-01,\n",
       "        2.59808462e-01,  1.10332737e+00,  1.07129187e+00,  9.55613213e-01,\n",
       "        1.00656422e+00,  8.56313625e-01, -2.50752768e-01,  1.20996583e+00,\n",
       "        8.53581693e-01,  7.98088759e-02,  7.98473216e-01,  1.01759276e-02,\n",
       "        1.01869390e+00,  7.34139401e-01, -3.51716045e-02,  6.44728154e-02,\n",
       "        2.75779022e-02,  9.51613680e-01,  1.01614496e+00,  7.71172096e-01,\n",
       "        9.98567108e-01,  4.85946463e-02,  3.91399309e-02,  1.01279326e+00,\n",
       "        3.69256102e-02,  8.86003037e-01,  1.68569246e-02,  1.02865015e+00,\n",
       "        1.13981744e+00,  4.85903042e-01,  8.78459752e-01,  7.63232927e-01,\n",
       "        7.34139401e-01,  1.75905853e-01,  1.03862143e-01,  8.57340803e-01,\n",
       "        7.71096763e-01,  5.92092919e-02,  1.11229678e+00,  5.92092919e-02,\n",
       "        2.00739950e-01,  1.10174054e-01,  1.00012392e-01,  6.50205738e-01,\n",
       "        3.83214040e-01,  9.20046511e-01, -6.53437277e-02,  7.06461357e-01,\n",
       "       -1.37517033e-01,  1.83457354e-01,  8.73493170e-01,  6.05025318e-01,\n",
       "        8.86691912e-01,  8.13057320e-01,  1.04610269e-01,  5.92504825e-03,\n",
       "        9.29588605e-01,  3.87503492e-01,  1.13746288e+00,  2.60253807e-01,\n",
       "        8.41948380e-01, -6.57740962e-03,  1.02653064e+00,  8.75116850e-01,\n",
       "        1.27222993e+00,  8.89835844e-01, -4.86197256e-02,  6.91921214e-01,\n",
       "        1.58615447e-01,  1.31433967e+00,  9.87325989e-01,  8.72092812e-01,\n",
       "        1.01614496e+00,  8.20983311e-02,  1.29010973e-01, -1.05591657e-01,\n",
       "        7.70946714e-01,  1.15368215e+00,  7.26356808e-02,  3.97196342e-01,\n",
       "        1.03542103e+00,  9.05665889e-01,  1.14464584e-01,  7.07751991e-01,\n",
       "        1.12251108e+00,  4.16526841e-02,  1.06737053e+00,  1.16197389e+00,\n",
       "        7.63232927e-01,  1.18228755e+00,  1.68527165e-01,  4.26977743e-02,\n",
       "        1.35877272e+00,  1.13882530e-01,  9.87719797e-01,  1.13806011e+00,\n",
       "        1.01614496e+00,  6.38562054e-03,  7.66464670e-01, -2.29657709e-01,\n",
       "       -4.75463381e-02,  2.17074376e-01,  7.35491726e-01,  7.93139264e-02,\n",
       "        1.04651246e+00,  1.18758030e-01,  1.01614496e+00,  9.87215435e-01,\n",
       "        8.11527924e-01,  4.05295370e-01,  2.47278575e-01, -1.08682946e-02,\n",
       "        3.37165900e-01,  1.04030680e+00,  2.04624884e-01, -6.43832956e-02,\n",
       "        3.27817410e-03, -2.35017541e-01,  5.56102830e-02,  1.50628618e-01,\n",
       "        8.31059368e-01, -2.45841013e-02,  5.92092919e-02, -3.48982653e-03,\n",
       "        1.13913192e+00, -7.23696363e-02,  2.39238282e-02, -2.92820857e-01,\n",
       "       -7.20676780e-02,  1.63343338e-01,  1.16197389e+00,  1.06524534e+00,\n",
       "        3.43079659e-01,  7.60653398e-01,  2.77707713e-01,  9.20142035e-01,\n",
       "        1.37791705e+00,  8.14140107e-01, -8.56973143e-02,  2.08140966e-01,\n",
       "        2.76253866e-01,  3.14520486e-01,  7.55178385e-02,  2.64071866e-02,\n",
       "        5.49001430e-02,  2.60374471e-01,  1.20243572e+00,  1.13746288e+00,\n",
       "        3.20949796e-02,  1.01614496e+00,  9.51199375e-02,  9.51613680e-01,\n",
       "        9.95136243e-01,  1.98080394e-01,  1.72275521e-03,  7.57562605e-01,\n",
       "        1.21305893e+00,  9.46131609e-02,  1.02646049e-01,  1.42664001e-02,\n",
       "        7.63232927e-01,  1.00683880e+00,  3.95122400e-03,  7.29524268e-01,\n",
       "        1.28388190e+00,  2.74838292e-01,  2.29954168e-01,  1.14738918e+00,\n",
       "        9.84899117e-01,  1.11748089e+00,  9.32212517e-01,  7.82734491e-02,\n",
       "        5.94809382e-01, -2.92674838e-02,  8.29486693e-01,  9.22292677e-01,\n",
       "        6.90838697e-01,  7.02017989e-01,  8.37860201e-01,  1.14890132e-01,\n",
       "       -2.07272789e-01,  8.81866889e-01,  9.74973593e-01, -7.49962523e-02,\n",
       "        7.67074649e-01,  6.71753793e-01,  2.36580357e-01,  9.53840563e-01,\n",
       "        1.23165296e+00, -1.79551965e-01,  9.32940946e-01,  1.00730241e+00,\n",
       "        8.33328866e-01,  3.02644054e-01,  6.36805886e-01,  4.91753292e-01,\n",
       "        1.05392009e-01,  4.68809397e-02,  7.99903221e-01,  1.18267495e-01,\n",
       "        1.53224564e-01, -1.89078655e-02,  1.18962177e-01,  1.71113644e-02,\n",
       "        1.06953406e+00,  2.94594409e-01,  9.72637226e-01,  2.41716068e-01,\n",
       "        1.29515325e-01,  1.18758030e-01,  1.39230423e-01,  1.59149450e-01,\n",
       "        3.05693969e-01,  4.21774881e-02,  8.95970137e-01,  1.47826059e-01,\n",
       "        1.14747219e+00,  4.43818699e-02,  3.16572534e-01,  7.39564129e-01,\n",
       "        1.17651126e-01,  6.63761078e-02,  2.84578321e-01,  9.94812652e-01,\n",
       "        3.83214040e-01,  5.65535561e-01, -8.86694645e-02,  4.56130611e-01,\n",
       "        7.89302414e-01,  6.42710560e-01,  1.03495437e+00,  7.55178385e-02,\n",
       "        1.03883096e+00,  7.55178385e-02,  1.01759276e-02,  7.66130009e-01,\n",
       "       -5.99487963e-02,  2.25152424e-01,  1.81660811e-01,  1.25885756e+00,\n",
       "        1.36246475e-01,  1.05987730e+00,  9.84342095e-01,  7.63232927e-01,\n",
       "        1.08562953e+00,  2.26616110e-02,  9.38480358e-01,  8.87805818e-01,\n",
       "       -7.59073197e-02,  7.52932762e-02,  7.26659268e-01, -2.25890137e-01,\n",
       "        3.16558525e-01,  1.09968629e+00,  1.53635334e-01, -7.23696363e-02,\n",
       "        9.72211601e-02,  9.17534882e-01,  9.60015399e-01,  2.13887221e-01,\n",
       "        5.34515822e-01,  1.11132469e+00,  6.77054180e-01,  3.83214040e-01,\n",
       "        3.82976950e-01,  1.48367152e-01,  8.73195369e-01, -2.10292479e-02,\n",
       "        8.54424411e-01,  7.65125423e-01,  7.56305565e-01,  6.94486692e-01,\n",
       "        3.03943010e-01, -1.53853238e-01,  3.55076281e-02,  9.51613680e-01,\n",
       "        9.85242510e-01,  3.33462138e-01,  8.19987018e-02,  1.71836029e-01,\n",
       "        5.39510392e-01,  2.73708838e-01,  9.34727735e-01,  2.30829729e-01,\n",
       "        3.89508693e-01,  1.22511138e+00,  1.28075790e+00,  1.58994324e-01,\n",
       "        1.73267204e-01,  9.51613680e-01, -4.41256991e-02,  3.54234265e-01,\n",
       "       -1.47611923e-02,  4.04955358e-01,  7.06577761e-01,  6.30242919e-01,\n",
       "        1.04038132e+00,  1.09580713e+00,  5.35369687e-01, -2.12138567e-01,\n",
       "        3.75271604e-01,  1.02331705e+00,  1.18758030e-01,  8.85193675e-02,\n",
       "        5.71654791e-02,  8.87378965e-01,  9.54559394e-01,  5.95811039e-01,\n",
       "        3.83214040e-01,  4.01240430e-01,  2.48081931e-01,  7.13559175e-01,\n",
       "        9.51613680e-01,  9.84539463e-02,  1.34479177e+00,  1.05306918e+00,\n",
       "        8.69888971e-02, -2.88394310e-02,  1.73833980e-01,  2.33942760e-01,\n",
       "        1.33997475e-01,  1.05907600e+00,  6.84733888e-01,  9.84342095e-01,\n",
       "        5.30771131e-01,  5.00706707e-01,  7.76572775e-01,  7.55178385e-02,\n",
       "        8.75649887e-01,  9.19477731e-01, -8.31256871e-03,  7.53946701e-01,\n",
       "        8.19987018e-02,  1.00559549e+00,  7.78230664e-01,  6.73565651e-01,\n",
       "       -1.35138753e-01,  9.69701851e-02,  6.59610473e-01,  8.29429462e-01,\n",
       "        1.15629410e+00,  2.58399123e-01,  1.37599088e-01,  2.83397837e-01,\n",
       "        7.35634114e-01,  7.41251540e-01,  1.05993845e+00,  2.84823605e-01,\n",
       "       -2.86041550e-01,  6.07622166e-01,  6.92701487e-01,  5.92092919e-02,\n",
       "        2.82980774e-01,  2.25293773e-01,  3.02979453e-01,  4.11375518e-02,\n",
       "        2.77969011e-01,  9.26335936e-01,  1.01223093e+00,  4.33772917e-01,\n",
       "        2.04854594e-01,  8.45696735e-02,  1.18758030e-01,  2.72753658e-01,\n",
       "        5.37052265e-01, -7.23696363e-02,  9.85383654e-01,  1.13746288e+00,\n",
       "        4.26381418e-01, -6.18763239e-03,  6.09202386e-02,  8.37686214e-01,\n",
       "        1.29143306e-01,  1.22854033e+00,  8.19987018e-02,  1.28892667e-01,\n",
       "        9.57474268e-01,  2.48630742e-02,  1.27800975e-01,  2.65308534e-01,\n",
       "        2.02811275e-01,  8.62045523e-01,  2.11831386e-02,  5.83295273e-01,\n",
       "        2.14025942e-01,  1.13746288e+00,  1.51216706e-01,  4.55610890e-02,\n",
       "        7.62170021e-03,  9.97478750e-01,  6.29852941e-01,  3.14578390e-01,\n",
       "        2.26431592e-01,  1.68741291e-02,  8.08567923e-01,  2.77316309e-01,\n",
       "        2.84408832e-01,  7.80672714e-01,  1.02177797e+00,  4.80291099e-01,\n",
       "        6.83644196e-01,  5.01269392e-01,  1.00318510e+00,  1.04578642e+00,\n",
       "        4.99005164e-01,  8.48655029e-01,  9.98590099e-01,  7.61747437e-01,\n",
       "        3.83214040e-01,  9.84342095e-01,  7.34702609e-01,  2.23458279e-01,\n",
       "        5.42265317e-01,  1.71267668e-01,  2.52812083e-01,  7.55178385e-02,\n",
       "        8.86985536e-01,  9.99103590e-01, -1.18863686e-01,  1.07453420e+00,\n",
       "        1.02856778e+00,  1.57040912e-01,  2.85381218e-01, -7.23696363e-02,\n",
       "       -1.21714097e-01,  2.83904301e-01,  9.84342095e-01,  4.20581481e-01,\n",
       "        1.12638204e+00,  6.89547118e-01,  1.00749735e+00, -4.26144345e-02,\n",
       "        8.60557161e-01,  8.34732812e-01,  7.34139401e-01,  1.02087578e+00,\n",
       "        3.53002187e-02,  1.14458646e+00, -7.23696363e-02, -3.66708014e-01,\n",
       "        1.95550456e-01,  8.75761074e-01,  5.17008442e-01,  1.95168995e-01,\n",
       "        1.23615035e-01,  8.00886299e-01, -8.38613585e-02,  2.45809984e-01,\n",
       "        4.70699210e-02,  5.96250180e-01, -9.44304226e-03,  5.92092919e-02,\n",
       "        1.86749791e-01,  1.18758030e-01, -1.42585142e-01,  2.51735593e-01,\n",
       "        1.13746288e+00,  1.01614496e+00, -3.63282512e-02,  5.06086746e-01,\n",
       "        3.97739650e-01,  1.26434534e-01,  1.11052768e+00,  3.10462912e-01,\n",
       "        2.83119098e-01,  9.79395925e-01, -4.31799085e-02,  1.18758030e-01,\n",
       "        6.66999851e-01,  4.25433878e-01,  1.03156380e+00,  1.27576895e-01,\n",
       "        1.27080728e-01,  8.88592293e-01,  3.68939892e-01,  1.01614496e+00,\n",
       "        2.58092640e-01,  8.19987018e-02,  8.44898748e-01,  3.16382579e-03,\n",
       "        1.11871612e+00,  9.89989215e-02,  3.83214040e-01,  1.03612141e-03,\n",
       "        8.21571335e-01, -3.77420439e-03,  1.13746288e+00,  1.18758030e-01,\n",
       "        9.41415718e-02,  8.91500656e-02,  7.96185817e-01,  8.19987018e-02,\n",
       "        9.84342095e-01,  1.31959118e+00,  3.11772532e-01, -1.42882373e-01,\n",
       "        5.17008442e-01,  7.39070990e-01, -7.23696363e-02,  1.13746288e+00,\n",
       "        8.81971843e-02,  1.16869276e+00,  9.19855503e-01,  1.01610974e-01,\n",
       "        7.55178385e-02,  3.16027097e-02,  1.95945089e-01,  7.63232927e-01,\n",
       "       -1.89859186e-01,  8.38319594e-01,  8.49078206e-01,  9.46788922e-01,\n",
       "        7.54290831e-01,  9.57290315e-01,  5.92092919e-02,  8.11413742e-01,\n",
       "        1.01614496e+00,  9.11743979e-01,  6.22830928e-02,  7.64987827e-01,\n",
       "        1.35697506e+00, -1.18224120e-02,  1.19416186e+00,  1.10582189e+00,\n",
       "        1.08187043e+00,  6.04607402e-01,  3.24538362e-01,  1.35688671e+00,\n",
       "        5.92092919e-02,  3.05750667e-02,  1.31551815e+00,  5.17008442e-01])"
      ]
     },
     "execution_count": 24,
     "metadata": {},
     "output_type": "execute_result"
    }
   ],
   "source": [
    "# prediction on test data\n",
    "test_data_prediction =regressor.predict(X_test)\n",
    "test_data_prediction"
   ]
  },
  {
   "cell_type": "code",
   "execution_count": 25,
   "id": "f2e58d01",
   "metadata": {},
   "outputs": [],
   "source": [
    "# Encode the target variable\n",
    "le = LabelEncoder()\n",
    "potato_leaf['Disease'] = le.fit_transform(potato_leaf['Disease in number'])\n",
    "\n",
    "# Split the data into features (X) and the target variable (y)\n",
    "X = potato_leaf[['Temperature', 'Humidity', 'Wind Speed', 'Wind Bearing', 'Visibility', 'Pressure']]\n",
    "y = potato_leaf['Disease']\n",
    "\n",
    "# Split the data into training and testing sets (e.g., 80% for training, 20% for testing)\n",
    "X_train, X_test, y_train, y_test = train_test_split(X, y, test_size=0.2, random_state=42)\n"
   ]
  },
  {
   "cell_type": "code",
   "execution_count": 26,
   "id": "f9d11d5b",
   "metadata": {},
   "outputs": [
    {
     "data": {
      "text/html": [
       "<style>#sk-container-id-2 {color: black;}#sk-container-id-2 pre{padding: 0;}#sk-container-id-2 div.sk-toggleable {background-color: white;}#sk-container-id-2 label.sk-toggleable__label {cursor: pointer;display: block;width: 100%;margin-bottom: 0;padding: 0.3em;box-sizing: border-box;text-align: center;}#sk-container-id-2 label.sk-toggleable__label-arrow:before {content: \"▸\";float: left;margin-right: 0.25em;color: #696969;}#sk-container-id-2 label.sk-toggleable__label-arrow:hover:before {color: black;}#sk-container-id-2 div.sk-estimator:hover label.sk-toggleable__label-arrow:before {color: black;}#sk-container-id-2 div.sk-toggleable__content {max-height: 0;max-width: 0;overflow: hidden;text-align: left;background-color: #f0f8ff;}#sk-container-id-2 div.sk-toggleable__content pre {margin: 0.2em;color: black;border-radius: 0.25em;background-color: #f0f8ff;}#sk-container-id-2 input.sk-toggleable__control:checked~div.sk-toggleable__content {max-height: 200px;max-width: 100%;overflow: auto;}#sk-container-id-2 input.sk-toggleable__control:checked~label.sk-toggleable__label-arrow:before {content: \"▾\";}#sk-container-id-2 div.sk-estimator input.sk-toggleable__control:checked~label.sk-toggleable__label {background-color: #d4ebff;}#sk-container-id-2 div.sk-label input.sk-toggleable__control:checked~label.sk-toggleable__label {background-color: #d4ebff;}#sk-container-id-2 input.sk-hidden--visually {border: 0;clip: rect(1px 1px 1px 1px);clip: rect(1px, 1px, 1px, 1px);height: 1px;margin: -1px;overflow: hidden;padding: 0;position: absolute;width: 1px;}#sk-container-id-2 div.sk-estimator {font-family: monospace;background-color: #f0f8ff;border: 1px dotted black;border-radius: 0.25em;box-sizing: border-box;margin-bottom: 0.5em;}#sk-container-id-2 div.sk-estimator:hover {background-color: #d4ebff;}#sk-container-id-2 div.sk-parallel-item::after {content: \"\";width: 100%;border-bottom: 1px solid gray;flex-grow: 1;}#sk-container-id-2 div.sk-label:hover label.sk-toggleable__label {background-color: #d4ebff;}#sk-container-id-2 div.sk-serial::before {content: \"\";position: absolute;border-left: 1px solid gray;box-sizing: border-box;top: 0;bottom: 0;left: 50%;z-index: 0;}#sk-container-id-2 div.sk-serial {display: flex;flex-direction: column;align-items: center;background-color: white;padding-right: 0.2em;padding-left: 0.2em;position: relative;}#sk-container-id-2 div.sk-item {position: relative;z-index: 1;}#sk-container-id-2 div.sk-parallel {display: flex;align-items: stretch;justify-content: center;background-color: white;position: relative;}#sk-container-id-2 div.sk-item::before, #sk-container-id-2 div.sk-parallel-item::before {content: \"\";position: absolute;border-left: 1px solid gray;box-sizing: border-box;top: 0;bottom: 0;left: 50%;z-index: -1;}#sk-container-id-2 div.sk-parallel-item {display: flex;flex-direction: column;z-index: 1;position: relative;background-color: white;}#sk-container-id-2 div.sk-parallel-item:first-child::after {align-self: flex-end;width: 50%;}#sk-container-id-2 div.sk-parallel-item:last-child::after {align-self: flex-start;width: 50%;}#sk-container-id-2 div.sk-parallel-item:only-child::after {width: 0;}#sk-container-id-2 div.sk-dashed-wrapped {border: 1px dashed gray;margin: 0 0.4em 0.5em 0.4em;box-sizing: border-box;padding-bottom: 0.4em;background-color: white;}#sk-container-id-2 div.sk-label label {font-family: monospace;font-weight: bold;display: inline-block;line-height: 1.2em;}#sk-container-id-2 div.sk-label-container {text-align: center;}#sk-container-id-2 div.sk-container {/* jupyter's `normalize.less` sets `[hidden] { display: none; }` but bootstrap.min.css set `[hidden] { display: none !important; }` so we also need the `!important` here to be able to override the default hidden behavior on the sphinx rendered scikit-learn.org. See: https://github.com/scikit-learn/scikit-learn/issues/21755 */display: inline-block !important;position: relative;}#sk-container-id-2 div.sk-text-repr-fallback {display: none;}</style><div id=\"sk-container-id-2\" class=\"sk-top-container\"><div class=\"sk-text-repr-fallback\"><pre>SVC()</pre><b>In a Jupyter environment, please rerun this cell to show the HTML representation or trust the notebook. <br />On GitHub, the HTML representation is unable to render, please try loading this page with nbviewer.org.</b></div><div class=\"sk-container\" hidden><div class=\"sk-item\"><div class=\"sk-estimator sk-toggleable\"><input class=\"sk-toggleable__control sk-hidden--visually\" id=\"sk-estimator-id-2\" type=\"checkbox\" checked><label for=\"sk-estimator-id-2\" class=\"sk-toggleable__label sk-toggleable__label-arrow\">SVC</label><div class=\"sk-toggleable__content\"><pre>SVC()</pre></div></div></div></div></div>"
      ],
      "text/plain": [
       "SVC()"
      ]
     },
     "execution_count": 26,
     "metadata": {},
     "output_type": "execute_result"
    }
   ],
   "source": [
    "from sklearn.linear_model import LogisticRegression\n",
    "from sklearn.ensemble import RandomForestClassifier\n",
    "from sklearn.svm import SVC\n",
    "\n",
    "# Initialize the models\n",
    "logistic_model = LogisticRegression()\n",
    "random_forest_model = RandomForestClassifier()\n",
    "svm_model = SVC()\n",
    "\n",
    "# Train the models\n",
    "logistic_model.fit(X_train, y_train)\n",
    "random_forest_model.fit(X_train, y_train)\n",
    "svm_model.fit(X_train, y_train)\n"
   ]
  },
  {
   "cell_type": "code",
   "execution_count": 27,
   "id": "c7043f48",
   "metadata": {},
   "outputs": [
    {
     "name": "stdout",
     "output_type": "stream",
     "text": [
      "Logistic Regression Accuracy: 0.9713930348258707\n",
      "Random Forest Accuracy: 0.9713930348258707\n",
      "SVM Accuracy: 0.8569651741293532\n",
      "\n",
      "Logistic Regression Confusion Matrix:\n",
      " [[377   8]\n",
      " [ 15 404]]\n",
      "Random Forest Confusion Matrix:\n",
      " [[376   9]\n",
      " [ 14 405]]\n",
      "SVM Confusion Matrix:\n",
      " [[278 107]\n",
      " [  8 411]]\n",
      "\n",
      "Logistic Regression Classification Report:\n",
      "               precision    recall  f1-score   support\n",
      "\n",
      "           0       0.96      0.98      0.97       385\n",
      "           1       0.98      0.96      0.97       419\n",
      "\n",
      "    accuracy                           0.97       804\n",
      "   macro avg       0.97      0.97      0.97       804\n",
      "weighted avg       0.97      0.97      0.97       804\n",
      "\n",
      "Random Forest Classification Report:\n",
      "               precision    recall  f1-score   support\n",
      "\n",
      "           0       0.96      0.98      0.97       385\n",
      "           1       0.98      0.97      0.97       419\n",
      "\n",
      "    accuracy                           0.97       804\n",
      "   macro avg       0.97      0.97      0.97       804\n",
      "weighted avg       0.97      0.97      0.97       804\n",
      "\n",
      "SVM Classification Report:\n",
      "               precision    recall  f1-score   support\n",
      "\n",
      "           0       0.97      0.72      0.83       385\n",
      "           1       0.79      0.98      0.88       419\n",
      "\n",
      "    accuracy                           0.86       804\n",
      "   macro avg       0.88      0.85      0.85       804\n",
      "weighted avg       0.88      0.86      0.85       804\n",
      "\n"
     ]
    }
   ],
   "source": [
    "# Make predictions using the models\n",
    "logistic_pred = logistic_model.predict(X_test)\n",
    "random_forest_pred = random_forest_model.predict(X_test)\n",
    "svm_pred = svm_model.predict(X_test)\n",
    "\n",
    "# Evaluate the models\n",
    "print(\"Logistic Regression Accuracy:\", accuracy_score(y_test, logistic_pred))\n",
    "print(\"Random Forest Accuracy:\", accuracy_score(y_test, random_forest_pred))\n",
    "print(\"SVM Accuracy:\", accuracy_score(y_test, svm_pred))\n",
    "\n",
    "print(\"\\nLogistic Regression Confusion Matrix:\\n\", confusion_matrix(y_test, logistic_pred))\n",
    "print(\"Random Forest Confusion Matrix:\\n\", confusion_matrix(y_test, random_forest_pred))\n",
    "print(\"SVM Confusion Matrix:\\n\", confusion_matrix(y_test, svm_pred))\n",
    "\n",
    "print(\"\\nLogistic Regression Classification Report:\\n\", classification_report(y_test, logistic_pred))\n",
    "print(\"Random Forest Classification Report:\\n\", classification_report(y_test, random_forest_pred))\n",
    "print(\"SVM Classification Report:\\n\", classification_report(y_test, svm_pred))\n"
   ]
  },
  {
   "cell_type": "code",
   "execution_count": 28,
   "id": "607b9035",
   "metadata": {},
   "outputs": [],
   "source": [
    "from sklearn.model_selection import train_test_split\n",
    "from sklearn.preprocessing import StandardScaler\n",
    "from sklearn.neural_network import MLPClassifier\n",
    "from sklearn.metrics import accuracy_score, confusion_matrix, classification_report\n",
    "\n"
   ]
  },
  {
   "cell_type": "code",
   "execution_count": 29,
   "id": "093f1000",
   "metadata": {},
   "outputs": [
    {
     "data": {
      "text/html": [
       "<style>#sk-container-id-3 {color: black;}#sk-container-id-3 pre{padding: 0;}#sk-container-id-3 div.sk-toggleable {background-color: white;}#sk-container-id-3 label.sk-toggleable__label {cursor: pointer;display: block;width: 100%;margin-bottom: 0;padding: 0.3em;box-sizing: border-box;text-align: center;}#sk-container-id-3 label.sk-toggleable__label-arrow:before {content: \"▸\";float: left;margin-right: 0.25em;color: #696969;}#sk-container-id-3 label.sk-toggleable__label-arrow:hover:before {color: black;}#sk-container-id-3 div.sk-estimator:hover label.sk-toggleable__label-arrow:before {color: black;}#sk-container-id-3 div.sk-toggleable__content {max-height: 0;max-width: 0;overflow: hidden;text-align: left;background-color: #f0f8ff;}#sk-container-id-3 div.sk-toggleable__content pre {margin: 0.2em;color: black;border-radius: 0.25em;background-color: #f0f8ff;}#sk-container-id-3 input.sk-toggleable__control:checked~div.sk-toggleable__content {max-height: 200px;max-width: 100%;overflow: auto;}#sk-container-id-3 input.sk-toggleable__control:checked~label.sk-toggleable__label-arrow:before {content: \"▾\";}#sk-container-id-3 div.sk-estimator input.sk-toggleable__control:checked~label.sk-toggleable__label {background-color: #d4ebff;}#sk-container-id-3 div.sk-label input.sk-toggleable__control:checked~label.sk-toggleable__label {background-color: #d4ebff;}#sk-container-id-3 input.sk-hidden--visually {border: 0;clip: rect(1px 1px 1px 1px);clip: rect(1px, 1px, 1px, 1px);height: 1px;margin: -1px;overflow: hidden;padding: 0;position: absolute;width: 1px;}#sk-container-id-3 div.sk-estimator {font-family: monospace;background-color: #f0f8ff;border: 1px dotted black;border-radius: 0.25em;box-sizing: border-box;margin-bottom: 0.5em;}#sk-container-id-3 div.sk-estimator:hover {background-color: #d4ebff;}#sk-container-id-3 div.sk-parallel-item::after {content: \"\";width: 100%;border-bottom: 1px solid gray;flex-grow: 1;}#sk-container-id-3 div.sk-label:hover label.sk-toggleable__label {background-color: #d4ebff;}#sk-container-id-3 div.sk-serial::before {content: \"\";position: absolute;border-left: 1px solid gray;box-sizing: border-box;top: 0;bottom: 0;left: 50%;z-index: 0;}#sk-container-id-3 div.sk-serial {display: flex;flex-direction: column;align-items: center;background-color: white;padding-right: 0.2em;padding-left: 0.2em;position: relative;}#sk-container-id-3 div.sk-item {position: relative;z-index: 1;}#sk-container-id-3 div.sk-parallel {display: flex;align-items: stretch;justify-content: center;background-color: white;position: relative;}#sk-container-id-3 div.sk-item::before, #sk-container-id-3 div.sk-parallel-item::before {content: \"\";position: absolute;border-left: 1px solid gray;box-sizing: border-box;top: 0;bottom: 0;left: 50%;z-index: -1;}#sk-container-id-3 div.sk-parallel-item {display: flex;flex-direction: column;z-index: 1;position: relative;background-color: white;}#sk-container-id-3 div.sk-parallel-item:first-child::after {align-self: flex-end;width: 50%;}#sk-container-id-3 div.sk-parallel-item:last-child::after {align-self: flex-start;width: 50%;}#sk-container-id-3 div.sk-parallel-item:only-child::after {width: 0;}#sk-container-id-3 div.sk-dashed-wrapped {border: 1px dashed gray;margin: 0 0.4em 0.5em 0.4em;box-sizing: border-box;padding-bottom: 0.4em;background-color: white;}#sk-container-id-3 div.sk-label label {font-family: monospace;font-weight: bold;display: inline-block;line-height: 1.2em;}#sk-container-id-3 div.sk-label-container {text-align: center;}#sk-container-id-3 div.sk-container {/* jupyter's `normalize.less` sets `[hidden] { display: none; }` but bootstrap.min.css set `[hidden] { display: none !important; }` so we also need the `!important` here to be able to override the default hidden behavior on the sphinx rendered scikit-learn.org. See: https://github.com/scikit-learn/scikit-learn/issues/21755 */display: inline-block !important;position: relative;}#sk-container-id-3 div.sk-text-repr-fallback {display: none;}</style><div id=\"sk-container-id-3\" class=\"sk-top-container\"><div class=\"sk-text-repr-fallback\"><pre>MLPClassifier(hidden_layer_sizes=(64, 32), max_iter=1000)</pre><b>In a Jupyter environment, please rerun this cell to show the HTML representation or trust the notebook. <br />On GitHub, the HTML representation is unable to render, please try loading this page with nbviewer.org.</b></div><div class=\"sk-container\" hidden><div class=\"sk-item\"><div class=\"sk-estimator sk-toggleable\"><input class=\"sk-toggleable__control sk-hidden--visually\" id=\"sk-estimator-id-3\" type=\"checkbox\" checked><label for=\"sk-estimator-id-3\" class=\"sk-toggleable__label sk-toggleable__label-arrow\">MLPClassifier</label><div class=\"sk-toggleable__content\"><pre>MLPClassifier(hidden_layer_sizes=(64, 32), max_iter=1000)</pre></div></div></div></div></div>"
      ],
      "text/plain": [
       "MLPClassifier(hidden_layer_sizes=(64, 32), max_iter=1000)"
      ]
     },
     "execution_count": 29,
     "metadata": {},
     "output_type": "execute_result"
    }
   ],
   "source": [
    "# Create an ANN model\n",
    "model_ann = MLPClassifier(hidden_layer_sizes=(64, 32), activation='relu', max_iter=1000)\n",
    "\n",
    "# Train the ANN model on the numerical dataset\n",
    "model_ann.fit(X_train, y_train)\n"
   ]
  },
  {
   "cell_type": "code",
   "execution_count": 30,
   "id": "75935f7a",
   "metadata": {},
   "outputs": [
    {
     "name": "stdout",
     "output_type": "stream",
     "text": [
      "ANN Accuracy: 0.9328358208955224\n",
      "ANN Confusion Matrix:\n",
      " [[341  44]\n",
      " [ 10 409]]\n",
      "ANN Classification Report:\n",
      "               precision    recall  f1-score   support\n",
      "\n",
      "           0       0.97      0.89      0.93       385\n",
      "           1       0.90      0.98      0.94       419\n",
      "\n",
      "    accuracy                           0.93       804\n",
      "   macro avg       0.94      0.93      0.93       804\n",
      "weighted avg       0.94      0.93      0.93       804\n",
      "\n"
     ]
    }
   ],
   "source": [
    "# Make predictions using the ANN model\n",
    "y_pred_ann = model_ann.predict(X_test)\n",
    "\n",
    "# Evaluate the ANN model\n",
    "print(\"ANN Accuracy:\", accuracy_score(y_test, y_pred_ann))\n",
    "print(\"ANN Confusion Matrix:\\n\", confusion_matrix(y_test, y_pred_ann))\n",
    "print(\"ANN Classification Report:\\n\", classification_report(y_test, y_pred_ann))\n",
    "\n"
   ]
  },
  {
   "cell_type": "code",
   "execution_count": 31,
   "id": "3f144542",
   "metadata": {},
   "outputs": [],
   "source": [
    "rf=RandomForestClassifier()\n",
    "rf.fit(X_train, y_train)\n",
    "predictions = rf.predict(X_test)"
   ]
  },
  {
   "cell_type": "code",
   "execution_count": 32,
   "id": "b3aa34dc",
   "metadata": {},
   "outputs": [
    {
     "data": {
      "text/plain": [
       "array([1, 1, 1, 0, 0, 1, 0, 0, 1, 1, 1, 0, 0, 1, 1, 1, 0, 0, 1, 1, 1, 1,\n",
       "       1, 0, 0, 1, 0, 0, 0, 0, 1, 0, 0, 0, 0, 1, 0, 0, 1, 1, 1, 1, 1, 0,\n",
       "       0, 0, 0, 0, 0, 1, 0, 1, 1, 0, 1, 0, 0, 1, 1, 0, 1, 1, 0, 1, 1, 1,\n",
       "       1, 0, 0, 0, 0, 1, 1, 0, 0, 0, 1, 1, 1, 1, 1, 0, 0, 1, 1, 1, 1, 1,\n",
       "       1, 1, 0, 1, 1, 0, 0, 1, 1, 1, 1, 1, 0, 1, 1, 0, 1, 1, 0, 0, 1, 0,\n",
       "       0, 1, 1, 1, 1, 1, 1, 1, 1, 0, 1, 1, 0, 0, 1, 1, 1, 1, 1, 1, 1, 1,\n",
       "       1, 1, 0, 0, 1, 0, 1, 1, 0, 1, 0, 1, 0, 1, 0, 1, 0, 1, 1, 0, 0, 1,\n",
       "       0, 0, 0, 0, 1, 0, 0, 1, 0, 0, 0, 1, 0, 0, 1, 0, 1, 1, 0, 0, 1, 0,\n",
       "       0, 1, 0, 1, 1, 0, 0, 1, 0, 1, 0, 0, 0, 0, 1, 0, 0, 0, 0, 1, 0, 1,\n",
       "       0, 1, 1, 1, 0, 0, 1, 0, 1, 1, 1, 0, 1, 0, 1, 1, 0, 1, 1, 0, 0, 1,\n",
       "       1, 0, 0, 0, 1, 0, 1, 0, 0, 0, 0, 0, 1, 0, 1, 1, 0, 1, 1, 1, 1, 0,\n",
       "       1, 1, 0, 0, 0, 1, 1, 0, 0, 1, 1, 1, 0, 1, 1, 1, 0, 1, 1, 1, 0, 1,\n",
       "       1, 1, 0, 1, 1, 0, 1, 1, 1, 0, 1, 1, 0, 0, 1, 0, 1, 1, 1, 1, 0, 0,\n",
       "       1, 0, 0, 0, 0, 1, 0, 1, 1, 1, 1, 0, 0, 0, 0, 1, 1, 0, 1, 1, 1, 1,\n",
       "       1, 0, 1, 0, 1, 0, 1, 0, 1, 1, 0, 1, 0, 0, 1, 0, 1, 0, 1, 1, 1, 0,\n",
       "       0, 0, 1, 0, 0, 1, 1, 1, 1, 0, 1, 0, 1, 0, 1, 0, 0, 0, 1, 0, 1, 0,\n",
       "       0, 0, 1, 1, 0, 1, 0, 0, 0, 0, 0, 1, 1, 0, 1, 0, 1, 1, 1, 1, 1, 0,\n",
       "       1, 1, 1, 0, 1, 0, 1, 1, 0, 0, 0, 0, 0, 0, 0, 0, 1, 1, 1, 0, 1, 1,\n",
       "       1, 0, 1, 0, 1, 1, 1, 0, 1, 0, 0, 1, 0, 1, 1, 0, 0, 0, 0, 1, 0, 0,\n",
       "       0, 1, 1, 1, 1, 0, 0, 0, 0, 1, 1, 0, 0, 1, 0, 0, 0, 0, 0, 0, 1, 0,\n",
       "       1, 1, 1, 0, 0, 0, 0, 1, 0, 0, 0, 1, 0, 1, 1, 0, 1, 1, 0, 1, 0, 1,\n",
       "       0, 1, 1, 0, 0, 1, 0, 1, 0, 1, 1, 0, 0, 0, 1, 1, 0, 0, 1, 1, 0, 0,\n",
       "       1, 1, 0, 1, 0, 1, 1, 0, 1, 1, 0, 0, 0, 1, 1, 1, 1, 1, 1, 0, 0, 1,\n",
       "       1, 0, 0, 1, 1, 1, 1, 0, 1, 1, 1, 1, 0, 1, 1, 1, 1, 0, 0, 1, 0, 0,\n",
       "       1, 1, 0, 1, 1, 1, 1, 0, 0, 0, 0, 1, 1, 0, 0, 0, 1, 1, 1, 1, 0, 1,\n",
       "       0, 0, 0, 1, 1, 1, 0, 0, 1, 0, 1, 0, 0, 0, 1, 0, 0, 0, 1, 0, 0, 1,\n",
       "       0, 0, 0, 1, 0, 1, 1, 0, 0, 0, 0, 1, 1, 0, 0, 1, 0, 1, 0, 1, 1, 1,\n",
       "       0, 0, 0, 0, 1, 0, 0, 0, 1, 1, 1, 0, 0, 1, 0, 0, 0, 0, 1, 1, 1, 1,\n",
       "       0, 0, 0, 1, 0, 0, 1, 1, 1, 1, 1, 0, 1, 1, 0, 1, 0, 0, 0, 1, 1, 1,\n",
       "       1, 0, 0, 1, 1, 1, 1, 0, 1, 1, 0, 1, 0, 0, 0, 0, 1, 0, 1, 0, 1, 0,\n",
       "       1, 1, 1, 1, 0, 0, 1, 1, 1, 0, 1, 1, 1, 0, 0, 0, 0, 0, 0, 1, 1, 1,\n",
       "       0, 1, 1, 0, 1, 0, 1, 0, 0, 0, 1, 0, 1, 0, 0, 0, 0, 0, 0, 0, 0, 0,\n",
       "       1, 0, 1, 1, 1, 0, 1, 0, 1, 1, 0, 0, 1, 0, 0, 0, 0, 0, 1, 0, 1, 1,\n",
       "       1, 1, 0, 0, 1, 0, 1, 0, 0, 1, 1, 0, 1, 0, 0, 0, 0, 0, 1, 1, 1, 1,\n",
       "       0, 0, 0, 1, 1, 1, 1, 0, 0, 1, 0, 0, 0, 1, 1, 1, 0, 1, 1, 0, 1, 0,\n",
       "       1, 0, 1, 1, 1, 0, 0, 1, 1, 1, 0, 1, 0, 1, 1, 0, 0, 1, 0, 0, 0, 0,\n",
       "       0, 1, 1, 1, 1, 0, 0, 0, 1, 1, 1, 1], dtype=int64)"
      ]
     },
     "execution_count": 32,
     "metadata": {},
     "output_type": "execute_result"
    }
   ],
   "source": [
    "predictions"
   ]
  },
  {
   "cell_type": "code",
   "execution_count": 33,
   "id": "3db0f43c",
   "metadata": {},
   "outputs": [],
   "source": [
    "\n",
    "import pickle\n",
    "with open('potato.pkl','wb') as f:\n",
    "    pickle.dump(rf,f)"
   ]
  },
  {
   "cell_type": "code",
   "execution_count": 34,
   "id": "a8e39157",
   "metadata": {},
   "outputs": [
    {
     "data": {
      "text/plain": [
       "array([1], dtype=int64)"
      ]
     },
     "execution_count": 34,
     "metadata": {},
     "output_type": "execute_result"
    }
   ],
   "source": [
    "rf.predict(pd.DataFrame(columns=X_test.columns,data=np.array(['24','77','6','63','11','1015']).reshape(1,6)))\n"
   ]
  },
  {
   "cell_type": "code",
   "execution_count": null,
   "id": "c134fe08",
   "metadata": {},
   "outputs": [],
   "source": []
  }
 ],
 "metadata": {
  "kernelspec": {
   "display_name": "python3.6",
   "language": "python",
   "name": "python3.6"
  },
  "language_info": {
   "codemirror_mode": {
    "name": "ipython",
    "version": 3
   },
   "file_extension": ".py",
   "mimetype": "text/x-python",
   "name": "python",
   "nbconvert_exporter": "python",
   "pygments_lexer": "ipython3",
   "version": "3.11.4"
  }
 },
 "nbformat": 4,
 "nbformat_minor": 5
}
